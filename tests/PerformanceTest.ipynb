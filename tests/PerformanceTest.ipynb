{
 "cells": [
  {
   "cell_type": "markdown",
   "metadata": {},
   "source": [
    "This is a simple performance test to verify in practice, that the complexity of the use_item operation is really O(1).\n",
    "\n",
    "We perform the following experiment one million times:\n",
    "\n",
    "1. Use the new item id given by iteration number\n",
    "2. Pick a random id from those used already and use it as well\n",
    "\n",
    "During the process above described, we keep track of the time  taken\n",
    "in calling the use_item method. For each # of items used so far, we\n",
    "average the two calls above (one for new item not seen, and another\n",
    "for the already seen item). We use new Python3 time.process_time() function, which approximates cpu-time as opposed to wall-time (that is, we do not want to measure sleep time here).\n",
    "\n",
    "At the end we just plot these average times vs #items. Accurate plotting requires high-precision clock, probably up to nano-seconds; hence, we use an scatter plot to avoid paying too much attention to cases where clock could not measure actual duration (but rather gave us zero).\n"
   ]
  },
  {
   "cell_type": "code",
   "execution_count": 16,
   "metadata": {},
   "outputs": [
    {
     "data": {
      "text/plain": [
       "<matplotlib.collections.PathCollection at 0x15688a91e80>"
      ]
     },
     "execution_count": 16,
     "metadata": {},
     "output_type": "execute_result"
    },
    {
     "data": {
      "image/png": "[encoded data removed]",
      "text/plain": [
       "<matplotlib.figure.Figure at 0x156f9b72198>"
      ]
     },
     "metadata": {},
     "output_type": "display_data"
    }
   ],
   "source": [
    "%matplotlib inline\n",
    "\n",
    "from random import randint\n",
    "from time import process_time\n",
    "\n",
    "import matplotlib.pyplot as plt\n",
    "import numpy as np\n",
    "\n",
    "import sys\n",
    "sys.path.append('..')\n",
    "from urank.UsageRanking import UsageRanking\n",
    "\n",
    "n = 1000000\n",
    "x = np.zeros(n)\n",
    "y = np.zeros(n)\n",
    "urank = UsageRanking()\n",
    "for id in range(n):\n",
    "    x[id] = id + 1\n",
    "    start = process_time()\n",
    "    urank.use_item(id)\n",
    "    end = process_time()\n",
    "    dur = end - start\n",
    "    start = process_time()\n",
    "    urank.use_item(randint(0, id))\n",
    "    end = process_time()\n",
    "    dur += end - start\n",
    "    y[id] = dur / 2\n",
    "plt.xlabel('# of items')\n",
    "plt.ylabel('duration of use_item (secs)')\n",
    "plt.title('Does use_item have O(1) time complexity?')\n",
    "plt.scatter(x, y)\n"
   ]
  },
  {
   "cell_type": "markdown",
   "metadata": {},
   "source": [
    "In the above plot, we can clearly see a couple of horizontal lines. The one slightly below 0.01 secs represents the theoretical O(1) that we predicted. The actual constant is likely smaller, but this test was run on Windows10; where clock can not reach nano-seconds precision. Further evidence of this is the horizontal line at zero, for all those cases the clock could not even measure any duration.\n",
    "\n",
    "The two isolated dots above the lines, are likely maintenance moments of the underlaying Python dictionaries (though this last claim requires more research)."
   ]
  }
 ],
 "metadata": {
  "kernelspec": {
   "display_name": "Python 3",
   "language": "python",
   "name": "python3"
  },
  "language_info": {
   "codemirror_mode": {
    "name": "ipython",
    "version": 3
   },
   "file_extension": ".py",
   "mimetype": "text/x-python",
   "name": "python",
   "nbconvert_exporter": "python",
   "pygments_lexer": "ipython3",
   "version": "3.6.3"
  }
 },
 "nbformat": 4,
 "nbformat_minor": 2
}
